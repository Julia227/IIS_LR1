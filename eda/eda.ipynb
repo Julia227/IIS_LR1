{
 "cells": [
  {
   "cell_type": "code",
   "execution_count": 1,
   "metadata": {},
   "outputs": [],
   "source": [
    "# Import Neccessary libraries\n",
    "import numpy as np \n",
    "import pandas as pd \n",
    "\n",
    "# Import Visualization libraries\n",
    "import matplotlib.pyplot as plt\n",
    "import seaborn as sns\n",
    "%matplotlib inline"
   ]
  },
  {
   "cell_type": "code",
   "execution_count": 3,
   "metadata": {},
   "outputs": [
    {
     "data": {
      "text/html": [
       "<div>\n",
       "<style scoped>\n",
       "    .dataframe tbody tr th:only-of-type {\n",
       "        vertical-align: middle;\n",
       "    }\n",
       "\n",
       "    .dataframe tbody tr th {\n",
       "        vertical-align: top;\n",
       "    }\n",
       "\n",
       "    .dataframe thead th {\n",
       "        text-align: right;\n",
       "    }\n",
       "</style>\n",
       "<table border=\"1\" class=\"dataframe\">\n",
       "  <thead>\n",
       "    <tr style=\"text-align: right;\">\n",
       "      <th></th>\n",
       "      <th>Unnamed: 0</th>\n",
       "      <th>work_year</th>\n",
       "      <th>experience_level</th>\n",
       "      <th>employment_type</th>\n",
       "      <th>job_title</th>\n",
       "      <th>salary</th>\n",
       "      <th>salary_currency</th>\n",
       "      <th>salary_in_usd</th>\n",
       "      <th>employee_residence</th>\n",
       "      <th>remote_ratio</th>\n",
       "      <th>company_location</th>\n",
       "      <th>company_size</th>\n",
       "    </tr>\n",
       "  </thead>\n",
       "  <tbody>\n",
       "    <tr>\n",
       "      <th>0</th>\n",
       "      <td>0</td>\n",
       "      <td>2020</td>\n",
       "      <td>MI</td>\n",
       "      <td>FT</td>\n",
       "      <td>Data Scientist</td>\n",
       "      <td>70000</td>\n",
       "      <td>EUR</td>\n",
       "      <td>79833</td>\n",
       "      <td>DE</td>\n",
       "      <td>0</td>\n",
       "      <td>DE</td>\n",
       "      <td>L</td>\n",
       "    </tr>\n",
       "    <tr>\n",
       "      <th>1</th>\n",
       "      <td>1</td>\n",
       "      <td>2020</td>\n",
       "      <td>SE</td>\n",
       "      <td>FT</td>\n",
       "      <td>Machine Learning Scientist</td>\n",
       "      <td>260000</td>\n",
       "      <td>USD</td>\n",
       "      <td>260000</td>\n",
       "      <td>JP</td>\n",
       "      <td>0</td>\n",
       "      <td>JP</td>\n",
       "      <td>S</td>\n",
       "    </tr>\n",
       "    <tr>\n",
       "      <th>2</th>\n",
       "      <td>2</td>\n",
       "      <td>2020</td>\n",
       "      <td>SE</td>\n",
       "      <td>FT</td>\n",
       "      <td>Big Data Engineer</td>\n",
       "      <td>85000</td>\n",
       "      <td>GBP</td>\n",
       "      <td>109024</td>\n",
       "      <td>GB</td>\n",
       "      <td>50</td>\n",
       "      <td>GB</td>\n",
       "      <td>M</td>\n",
       "    </tr>\n",
       "    <tr>\n",
       "      <th>3</th>\n",
       "      <td>3</td>\n",
       "      <td>2020</td>\n",
       "      <td>MI</td>\n",
       "      <td>FT</td>\n",
       "      <td>Product Data Analyst</td>\n",
       "      <td>20000</td>\n",
       "      <td>USD</td>\n",
       "      <td>20000</td>\n",
       "      <td>HN</td>\n",
       "      <td>0</td>\n",
       "      <td>HN</td>\n",
       "      <td>S</td>\n",
       "    </tr>\n",
       "    <tr>\n",
       "      <th>4</th>\n",
       "      <td>4</td>\n",
       "      <td>2020</td>\n",
       "      <td>SE</td>\n",
       "      <td>FT</td>\n",
       "      <td>Machine Learning Engineer</td>\n",
       "      <td>150000</td>\n",
       "      <td>USD</td>\n",
       "      <td>150000</td>\n",
       "      <td>US</td>\n",
       "      <td>50</td>\n",
       "      <td>US</td>\n",
       "      <td>L</td>\n",
       "    </tr>\n",
       "  </tbody>\n",
       "</table>\n",
       "</div>"
      ],
      "text/plain": [
       "   Unnamed: 0  work_year experience_level employment_type  \\\n",
       "0           0       2020               MI              FT   \n",
       "1           1       2020               SE              FT   \n",
       "2           2       2020               SE              FT   \n",
       "3           3       2020               MI              FT   \n",
       "4           4       2020               SE              FT   \n",
       "\n",
       "                    job_title  salary salary_currency  salary_in_usd  \\\n",
       "0              Data Scientist   70000             EUR          79833   \n",
       "1  Machine Learning Scientist  260000             USD         260000   \n",
       "2           Big Data Engineer   85000             GBP         109024   \n",
       "3        Product Data Analyst   20000             USD          20000   \n",
       "4   Machine Learning Engineer  150000             USD         150000   \n",
       "\n",
       "  employee_residence  remote_ratio company_location company_size  \n",
       "0                 DE             0               DE            L  \n",
       "1                 JP             0               JP            S  \n",
       "2                 GB            50               GB            M  \n",
       "3                 HN             0               HN            S  \n",
       "4                 US            50               US            L  "
      ]
     },
     "execution_count": 3,
     "metadata": {},
     "output_type": "execute_result"
    }
   ],
   "source": [
    "df=pd.read_csv('/home/mainuser/Grebeneva_IIS/data/ds_salaries.csv')\n",
    "df.head()"
   ]
  },
  {
   "cell_type": "code",
   "execution_count": 7,
   "metadata": {},
   "outputs": [],
   "source": [
    "#removing unneccessary columns\n",
    "df.drop(['Unnamed: 0','salary','salary_currency'],axis=1,inplace=True)"
   ]
  },
  {
   "cell_type": "code",
   "execution_count": 8,
   "metadata": {},
   "outputs": [
    {
     "data": {
      "text/html": [
       "<div>\n",
       "<style scoped>\n",
       "    .dataframe tbody tr th:only-of-type {\n",
       "        vertical-align: middle;\n",
       "    }\n",
       "\n",
       "    .dataframe tbody tr th {\n",
       "        vertical-align: top;\n",
       "    }\n",
       "\n",
       "    .dataframe thead th {\n",
       "        text-align: right;\n",
       "    }\n",
       "</style>\n",
       "<table border=\"1\" class=\"dataframe\">\n",
       "  <thead>\n",
       "    <tr style=\"text-align: right;\">\n",
       "      <th></th>\n",
       "      <th>work_year</th>\n",
       "      <th>experience_level</th>\n",
       "      <th>employment_type</th>\n",
       "      <th>job_title</th>\n",
       "      <th>salary_in_usd</th>\n",
       "      <th>employee_residence</th>\n",
       "      <th>remote_ratio</th>\n",
       "      <th>company_location</th>\n",
       "      <th>company_size</th>\n",
       "    </tr>\n",
       "  </thead>\n",
       "  <tbody>\n",
       "    <tr>\n",
       "      <th>0</th>\n",
       "      <td>2020</td>\n",
       "      <td>MI</td>\n",
       "      <td>FT</td>\n",
       "      <td>Data Scientist</td>\n",
       "      <td>79833</td>\n",
       "      <td>DE</td>\n",
       "      <td>0</td>\n",
       "      <td>DE</td>\n",
       "      <td>L</td>\n",
       "    </tr>\n",
       "    <tr>\n",
       "      <th>1</th>\n",
       "      <td>2020</td>\n",
       "      <td>SE</td>\n",
       "      <td>FT</td>\n",
       "      <td>Machine Learning Scientist</td>\n",
       "      <td>260000</td>\n",
       "      <td>JP</td>\n",
       "      <td>0</td>\n",
       "      <td>JP</td>\n",
       "      <td>S</td>\n",
       "    </tr>\n",
       "    <tr>\n",
       "      <th>2</th>\n",
       "      <td>2020</td>\n",
       "      <td>SE</td>\n",
       "      <td>FT</td>\n",
       "      <td>Big Data Engineer</td>\n",
       "      <td>109024</td>\n",
       "      <td>GB</td>\n",
       "      <td>50</td>\n",
       "      <td>GB</td>\n",
       "      <td>M</td>\n",
       "    </tr>\n",
       "    <tr>\n",
       "      <th>3</th>\n",
       "      <td>2020</td>\n",
       "      <td>MI</td>\n",
       "      <td>FT</td>\n",
       "      <td>Product Data Analyst</td>\n",
       "      <td>20000</td>\n",
       "      <td>HN</td>\n",
       "      <td>0</td>\n",
       "      <td>HN</td>\n",
       "      <td>S</td>\n",
       "    </tr>\n",
       "    <tr>\n",
       "      <th>4</th>\n",
       "      <td>2020</td>\n",
       "      <td>SE</td>\n",
       "      <td>FT</td>\n",
       "      <td>Machine Learning Engineer</td>\n",
       "      <td>150000</td>\n",
       "      <td>US</td>\n",
       "      <td>50</td>\n",
       "      <td>US</td>\n",
       "      <td>L</td>\n",
       "    </tr>\n",
       "  </tbody>\n",
       "</table>\n",
       "</div>"
      ],
      "text/plain": [
       "   work_year experience_level employment_type                   job_title  \\\n",
       "0       2020               MI              FT              Data Scientist   \n",
       "1       2020               SE              FT  Machine Learning Scientist   \n",
       "2       2020               SE              FT           Big Data Engineer   \n",
       "3       2020               MI              FT        Product Data Analyst   \n",
       "4       2020               SE              FT   Machine Learning Engineer   \n",
       "\n",
       "   salary_in_usd employee_residence  remote_ratio company_location  \\\n",
       "0          79833                 DE             0               DE   \n",
       "1         260000                 JP             0               JP   \n",
       "2         109024                 GB            50               GB   \n",
       "3          20000                 HN             0               HN   \n",
       "4         150000                 US            50               US   \n",
       "\n",
       "  company_size  \n",
       "0            L  \n",
       "1            S  \n",
       "2            M  \n",
       "3            S  \n",
       "4            L  "
      ]
     },
     "execution_count": 8,
     "metadata": {},
     "output_type": "execute_result"
    }
   ],
   "source": [
    "df.head()"
   ]
  },
  {
   "cell_type": "code",
   "execution_count": 9,
   "metadata": {},
   "outputs": [
    {
     "name": "stdout",
     "output_type": "stream",
     "text": [
      "Dupl_found\n",
      "     work_year experience_level employment_type                  job_title  \\\n",
      "217       2021               MI              FT             Data Scientist   \n",
      "256       2021               MI              FT              Data Engineer   \n",
      "331       2022               SE              FT               Data Analyst   \n",
      "332       2022               SE              FT               Data Analyst   \n",
      "333       2022               SE              FT               Data Analyst   \n",
      "353       2022               SE              FT             Data Scientist   \n",
      "362       2022               SE              FT               Data Analyst   \n",
      "363       2022               SE              FT               Data Analyst   \n",
      "370       2022               SE              FT             Data Scientist   \n",
      "374       2022               MI              FT              ETL Developer   \n",
      "377       2022               SE              FT              Data Engineer   \n",
      "385       2022               SE              FT              Data Engineer   \n",
      "392       2022               SE              FT               Data Analyst   \n",
      "393       2022               SE              FT               Data Analyst   \n",
      "406       2022               MI              FT               Data Analyst   \n",
      "438       2022               SE              FT  Machine Learning Engineer   \n",
      "439       2022               SE              FT  Machine Learning Engineer   \n",
      "443       2022               MI              FT              Data Engineer   \n",
      "446       2022               SE              FT              Data Engineer   \n",
      "447       2022               SE              FT              Data Engineer   \n",
      "473       2022               SE              FT             Data Scientist   \n",
      "527       2022               SE              FT               Data Analyst   \n",
      "529       2022               SE              FT               Data Analyst   \n",
      "536       2022               SE              FT               Data Analyst   \n",
      "537       2022               SE              FT              Data Engineer   \n",
      "545       2022               SE              FT              Data Engineer   \n",
      "547       2022               SE              FT              Data Engineer   \n",
      "551       2022               SE              FT             Data Scientist   \n",
      "555       2022               SE              FT              Data Engineer   \n",
      "566       2022               SE              FT               Data Analyst   \n",
      "569       2022               SE              FT             Data Scientist   \n",
      "571       2022               SE              FT             Data Scientist   \n",
      "572       2022               SE              FT               Data Analyst   \n",
      "574       2022               SE              FT             Data Scientist   \n",
      "575       2022               SE              FT             Data Scientist   \n",
      "576       2022               SE              FT             Data Scientist   \n",
      "578       2022               SE              FT              Data Engineer   \n",
      "587       2022               SE              FT             Data Scientist   \n",
      "588       2022               SE              FT               Data Analyst   \n",
      "592       2022               SE              FT             Data Scientist   \n",
      "596       2022               SE              FT             Data Scientist   \n",
      "597       2022               SE              FT               Data Analyst   \n",
      "\n",
      "     salary_in_usd employee_residence  remote_ratio company_location  \\\n",
      "217          90734                 DE            50               DE   \n",
      "256         200000                 US           100               US   \n",
      "331          90320                 US           100               US   \n",
      "332         112900                 US           100               US   \n",
      "333          90320                 US           100               US   \n",
      "353         123000                 US           100               US   \n",
      "362         130000                 CA           100               CA   \n",
      "363          61300                 CA           100               CA   \n",
      "370         123000                 US           100               US   \n",
      "374          54957                 GR             0               GR   \n",
      "377         165400                 US           100               US   \n",
      "385         132320                 US           100               US   \n",
      "392         112900                 US           100               US   \n",
      "393          90320                 US           100               US   \n",
      "406          58000                 US             0               US   \n",
      "438         189650                 US             0               US   \n",
      "439         164996                 US             0               US   \n",
      "443          78526                 GB           100               GB   \n",
      "446         209100                 US           100               US   \n",
      "447         154600                 US           100               US   \n",
      "473         140000                 US           100               US   \n",
      "527         135000                 US           100               US   \n",
      "529          90320                 US           100               US   \n",
      "536         112900                 US           100               US   \n",
      "537         155000                 US           100               US   \n",
      "545         115000                 US           100               US   \n",
      "547         130000                 US           100               US   \n",
      "551         140400                 US             0               US   \n",
      "555         160000                 US           100               US   \n",
      "566         170000                 US           100               US   \n",
      "569         140000                 US           100               US   \n",
      "571         140000                 US           100               US   \n",
      "572         100000                 US           100               US   \n",
      "574         210000                 US           100               US   \n",
      "575         140000                 US           100               US   \n",
      "576         210000                 US           100               US   \n",
      "578         100000                 US           100               US   \n",
      "587         140000                 US           100               US   \n",
      "588          99000                 US             0               US   \n",
      "592         230000                 US           100               US   \n",
      "596         210000                 US           100               US   \n",
      "597         170000                 US           100               US   \n",
      "\n",
      "    company_size  \n",
      "217            L  \n",
      "256            L  \n",
      "331            M  \n",
      "332            M  \n",
      "333            M  \n",
      "353            M  \n",
      "362            M  \n",
      "363            M  \n",
      "370            M  \n",
      "374            M  \n",
      "377            M  \n",
      "385            M  \n",
      "392            M  \n",
      "393            M  \n",
      "406            S  \n",
      "438            M  \n",
      "439            M  \n",
      "443            M  \n",
      "446            L  \n",
      "447            L  \n",
      "473            M  \n",
      "527            M  \n",
      "529            M  \n",
      "536            M  \n",
      "537            M  \n",
      "545            M  \n",
      "547            M  \n",
      "551            L  \n",
      "555            M  \n",
      "566            M  \n",
      "569            M  \n",
      "571            M  \n",
      "572            M  \n",
      "574            M  \n",
      "575            M  \n",
      "576            M  \n",
      "578            M  \n",
      "587            M  \n",
      "588            M  \n",
      "592            M  \n",
      "596            M  \n",
      "597            M  \n"
     ]
    }
   ],
   "source": [
    "# Check Duplicates\n",
    "duplicates = df.duplicated()\n",
    "\n",
    "if duplicates.any():\n",
    "    print(\"Dupl_found\")\n",
    "    duplicate_rows = df[duplicates]\n",
    "    print(duplicate_rows)\n",
    "else:\n",
    "    print(\"Dupl_not_found\")"
   ]
  },
  {
   "cell_type": "code",
   "execution_count": 18,
   "metadata": {},
   "outputs": [
    {
     "name": "stdout",
     "output_type": "stream",
     "text": [
      "SIZE =  5463\n",
      "\n",
      "describe\n",
      "         work_year  salary_in_usd  remote_ratio\n",
      "count   607.000000     607.000000     607.00000\n",
      "mean   2021.405272  112297.869852      70.92257\n",
      "std       0.692133   70957.259411      40.70913\n",
      "min    2020.000000    2859.000000       0.00000\n",
      "25%    2021.000000   62726.000000      50.00000\n",
      "50%    2022.000000  101570.000000     100.00000\n",
      "75%    2022.000000  150000.000000     100.00000\n",
      "max    2022.000000  600000.000000     100.00000\n",
      "\n",
      "unique values\n",
      "work_year               3\n",
      "experience_level        4\n",
      "employment_type         4\n",
      "job_title              50\n",
      "salary_in_usd         369\n",
      "employee_residence     57\n",
      "remote_ratio            3\n",
      "company_location       50\n",
      "company_size            3\n",
      "dtype: int64\n",
      "\n",
      "null values\n",
      "work_year             0\n",
      "experience_level      0\n",
      "employment_type       0\n",
      "job_title             0\n",
      "salary_in_usd         0\n",
      "employee_residence    0\n",
      "remote_ratio          0\n",
      "company_location      0\n",
      "company_size          0\n",
      "dtype: int64\n"
     ]
    }
   ],
   "source": [
    "## Information about dataset\n",
    "print('SIZE = ',df.size)\n",
    "print('')\n",
    "print('describe')\n",
    "print(df.describe())\n",
    "print('')\n",
    "print('unique values')\n",
    "print(df.nunique())\n",
    "print('')\n",
    "print('null values')\n",
    "print(df.isnull().sum())"
   ]
  },
  {
   "cell_type": "code",
   "execution_count": 20,
   "metadata": {},
   "outputs": [
    {
     "data": {
      "text/plain": [
       "array(['MI', 'SE', 'EN', 'EX'], dtype=object)"
      ]
     },
     "execution_count": 20,
     "metadata": {},
     "output_type": "execute_result"
    }
   ],
   "source": [
    "df['experience_level'].unique()"
   ]
  },
  {
   "cell_type": "code",
   "execution_count": 21,
   "metadata": {},
   "outputs": [],
   "source": [
    "df['experience_level']=df['experience_level'].replace('SE','Senior level')\n",
    "df['experience_level']=df['experience_level'].replace('MI','Intermediate level')\n",
    "df['experience_level']=df['experience_level'].replace('EN','Entry level')\n",
    "df['experience_level']=df['experience_level'].replace('EX','Executive level')"
   ]
  },
  {
   "cell_type": "code",
   "execution_count": 22,
   "metadata": {},
   "outputs": [
    {
     "data": {
      "text/plain": [
       "array(['FT', 'CT', 'PT', 'FL'], dtype=object)"
      ]
     },
     "execution_count": 22,
     "metadata": {},
     "output_type": "execute_result"
    }
   ],
   "source": [
    "df['employment_type'].unique()"
   ]
  },
  {
   "cell_type": "code",
   "execution_count": 23,
   "metadata": {},
   "outputs": [],
   "source": [
    "df['employment_type']=df['employment_type'].replace('FT','Full Time')\n",
    "df['employment_type']=df['employment_type'].replace('CT','Contract')\n",
    "df['employment_type']=df['employment_type'].replace('FL','Freelance')\n",
    "df['employment_type']=df['employment_type'].replace('PT','Part Time')"
   ]
  },
  {
   "cell_type": "code",
   "execution_count": 24,
   "metadata": {},
   "outputs": [
    {
     "data": {
      "text/html": [
       "<div>\n",
       "<style scoped>\n",
       "    .dataframe tbody tr th:only-of-type {\n",
       "        vertical-align: middle;\n",
       "    }\n",
       "\n",
       "    .dataframe tbody tr th {\n",
       "        vertical-align: top;\n",
       "    }\n",
       "\n",
       "    .dataframe thead th {\n",
       "        text-align: right;\n",
       "    }\n",
       "</style>\n",
       "<table border=\"1\" class=\"dataframe\">\n",
       "  <thead>\n",
       "    <tr style=\"text-align: right;\">\n",
       "      <th></th>\n",
       "      <th>work_year</th>\n",
       "      <th>experience_level</th>\n",
       "      <th>employment_type</th>\n",
       "      <th>job_title</th>\n",
       "      <th>salary_in_usd</th>\n",
       "      <th>employee_residence</th>\n",
       "      <th>remote_ratio</th>\n",
       "      <th>company_location</th>\n",
       "      <th>company_size</th>\n",
       "    </tr>\n",
       "  </thead>\n",
       "  <tbody>\n",
       "    <tr>\n",
       "      <th>0</th>\n",
       "      <td>2020</td>\n",
       "      <td>Intermediate level</td>\n",
       "      <td>Full Time</td>\n",
       "      <td>Data Scientist</td>\n",
       "      <td>79833</td>\n",
       "      <td>DE</td>\n",
       "      <td>0</td>\n",
       "      <td>DE</td>\n",
       "      <td>L</td>\n",
       "    </tr>\n",
       "    <tr>\n",
       "      <th>1</th>\n",
       "      <td>2020</td>\n",
       "      <td>Senior level</td>\n",
       "      <td>Full Time</td>\n",
       "      <td>Machine Learning Scientist</td>\n",
       "      <td>260000</td>\n",
       "      <td>JP</td>\n",
       "      <td>0</td>\n",
       "      <td>JP</td>\n",
       "      <td>S</td>\n",
       "    </tr>\n",
       "    <tr>\n",
       "      <th>2</th>\n",
       "      <td>2020</td>\n",
       "      <td>Senior level</td>\n",
       "      <td>Full Time</td>\n",
       "      <td>Big Data Engineer</td>\n",
       "      <td>109024</td>\n",
       "      <td>GB</td>\n",
       "      <td>50</td>\n",
       "      <td>GB</td>\n",
       "      <td>M</td>\n",
       "    </tr>\n",
       "    <tr>\n",
       "      <th>3</th>\n",
       "      <td>2020</td>\n",
       "      <td>Intermediate level</td>\n",
       "      <td>Full Time</td>\n",
       "      <td>Product Data Analyst</td>\n",
       "      <td>20000</td>\n",
       "      <td>HN</td>\n",
       "      <td>0</td>\n",
       "      <td>HN</td>\n",
       "      <td>S</td>\n",
       "    </tr>\n",
       "    <tr>\n",
       "      <th>4</th>\n",
       "      <td>2020</td>\n",
       "      <td>Senior level</td>\n",
       "      <td>Full Time</td>\n",
       "      <td>Machine Learning Engineer</td>\n",
       "      <td>150000</td>\n",
       "      <td>US</td>\n",
       "      <td>50</td>\n",
       "      <td>US</td>\n",
       "      <td>L</td>\n",
       "    </tr>\n",
       "  </tbody>\n",
       "</table>\n",
       "</div>"
      ],
      "text/plain": [
       "   work_year    experience_level employment_type                   job_title  \\\n",
       "0       2020  Intermediate level       Full Time              Data Scientist   \n",
       "1       2020        Senior level       Full Time  Machine Learning Scientist   \n",
       "2       2020        Senior level       Full Time           Big Data Engineer   \n",
       "3       2020  Intermediate level       Full Time        Product Data Analyst   \n",
       "4       2020        Senior level       Full Time   Machine Learning Engineer   \n",
       "\n",
       "   salary_in_usd employee_residence  remote_ratio company_location  \\\n",
       "0          79833                 DE             0               DE   \n",
       "1         260000                 JP             0               JP   \n",
       "2         109024                 GB            50               GB   \n",
       "3          20000                 HN             0               HN   \n",
       "4         150000                 US            50               US   \n",
       "\n",
       "  company_size  \n",
       "0            L  \n",
       "1            S  \n",
       "2            M  \n",
       "3            S  \n",
       "4            L  "
      ]
     },
     "execution_count": 24,
     "metadata": {},
     "output_type": "execute_result"
    }
   ],
   "source": [
    "df.head()"
   ]
  },
  {
   "cell_type": "code",
   "execution_count": 25,
   "metadata": {},
   "outputs": [
    {
     "data": {
      "text/plain": [
       "job_title\n",
       "Data Scientist                              143\n",
       "Data Engineer                               132\n",
       "Data Analyst                                 97\n",
       "Machine Learning Engineer                    41\n",
       "Research Scientist                           16\n",
       "Data Science Manager                         12\n",
       "Data Architect                               11\n",
       "Machine Learning Scientist                    8\n",
       "Big Data Engineer                             8\n",
       "Director of Data Science                      7\n",
       "AI Scientist                                  7\n",
       "Principal Data Scientist                      7\n",
       "Data Science Consultant                       7\n",
       "Data Analytics Manager                        7\n",
       "BI Data Analyst                               6\n",
       "Computer Vision Engineer                      6\n",
       "ML Engineer                                   6\n",
       "Lead Data Engineer                            6\n",
       "Applied Data Scientist                        5\n",
       "Business Data Analyst                         5\n",
       "Data Engineering Manager                      5\n",
       "Head of Data                                  5\n",
       "Data Analytics Engineer                       4\n",
       "Head of Data Science                          4\n",
       "Applied Machine Learning Scientist            4\n",
       "Analytics Engineer                            4\n",
       "Machine Learning Developer                    3\n",
       "Data Science Engineer                         3\n",
       "Lead Data Analyst                             3\n",
       "Machine Learning Infrastructure Engineer      3\n",
       "Lead Data Scientist                           3\n",
       "Principal Data Engineer                       3\n",
       "Computer Vision Software Engineer             3\n",
       "Product Data Analyst                          2\n",
       "ETL Developer                                 2\n",
       "Cloud Data Engineer                           2\n",
       "Financial Data Analyst                        2\n",
       "Director of Data Engineering                  2\n",
       "Principal Data Analyst                        2\n",
       "Machine Learning Manager                      1\n",
       "Marketing Data Analyst                        1\n",
       "3D Computer Vision Researcher                 1\n",
       "Finance Data Analyst                          1\n",
       "Data Specialist                               1\n",
       "Staff Data Scientist                          1\n",
       "Big Data Architect                            1\n",
       "Head of Machine Learning                      1\n",
       "NLP Engineer                                  1\n",
       "Lead Machine Learning Engineer                1\n",
       "Data Analytics Lead                           1\n",
       "Name: count, dtype: int64"
      ]
     },
     "execution_count": 25,
     "metadata": {},
     "output_type": "execute_result"
    }
   ],
   "source": [
    "jobs=df['job_title'].value_counts()\n",
    "jobs"
   ]
  },
  {
   "cell_type": "code",
   "execution_count": 56,
   "metadata": {},
   "outputs": [
    {
     "data": {
      "text/plain": [
       "job_title\n",
       "Data Scientist               143\n",
       "Data Engineer                132\n",
       "Data Analyst                  97\n",
       "Machine Learning Engineer     41\n",
       "Research Scientist            16\n",
       "Data Science Manager          12\n",
       "Data Architect                11\n",
       "Name: count, dtype: int64"
      ]
     },
     "execution_count": 56,
     "metadata": {},
     "output_type": "execute_result"
    }
   ],
   "source": [
    "## Top 7 job because > 10 people \n",
    "\n",
    "top7_jobs=jobs[:7]\n",
    "top7_jobs"
   ]
  },
  {
   "cell_type": "code",
   "execution_count": 58,
   "metadata": {},
   "outputs": [
    {
     "data": {
      "image/png": "[encoded data removed]",
      "text/plain": [
       "<Figure size 2500x900 with 1 Axes>"
      ]
     },
     "metadata": {},
     "output_type": "display_data"
    }
   ],
   "source": [
    "#graf jobs po kolvo people\n",
    "job_title=['Data Scientist','Data Engineer', 'Data Analyst','Machine Learning Engineer', 'Research Scientist','Data Science Manager','Data Architect']\n",
    "counts=np.array(top7_jobs)\n",
    "plt.figure(figsize=(25,9))\n",
    "sns.barplot(x=job_title,y=counts)\n",
    "plt.show()"
   ]
  },
  {
   "cell_type": "markdown",
   "metadata": {},
   "source": [
    "This Graph gives us insight that most people are having Data Scientist Job Role "
   ]
  },
  {
   "cell_type": "code",
   "execution_count": 44,
   "metadata": {},
   "outputs": [
    {
     "data": {
      "text/plain": [
       "job_title\n",
       "Data Scientist               143\n",
       "Data Engineer                132\n",
       "Data Analyst                  97\n",
       "Machine Learning Engineer     41\n",
       "Research Scientist            16\n",
       "Data Science Manager          12\n",
       "Data Architect                11\n",
       "Name: count, dtype: int64"
      ]
     },
     "execution_count": 44,
     "metadata": {},
     "output_type": "execute_result"
    }
   ],
   "source": [
    "## new dataset with 7 \n",
    "\n",
    "df_filtr_1 = df[df['job_title'].isin(job_title)]\n",
    "\n",
    "jobs=df_filtr_1['job_title'].value_counts()\n",
    "\n",
    "jobs\n"
   ]
  },
  {
   "cell_type": "code",
   "execution_count": 48,
   "metadata": {},
   "outputs": [
    {
     "name": "stdout",
     "output_type": "stream",
     "text": [
      "SIZE_new_bd =  4068\n",
      "SIZE_old_bd =  5463\n"
     ]
    }
   ],
   "source": [
    "## Information about new dataset \n",
    "print('SIZE_new_bd = ',df_filtr_1.size)\n",
    "print('SIZE_old_bd = ',df.size)"
   ]
  },
  {
   "cell_type": "code",
   "execution_count": 49,
   "metadata": {},
   "outputs": [
    {
     "data": {
      "image/png": "[encoded data removed]",
      "text/plain": [
       "<Figure size 2500x900 with 1 Axes>"
      ]
     },
     "metadata": {},
     "output_type": "display_data"
    }
   ],
   "source": [
    "#graf jobs po sredney zp\n",
    "\n",
    "job_title=['Data Scientist','Data Engineer', 'Data Analyst','Machine Learning Engineer', 'Research Scientist','Data Science Manager','Data Architect']\n",
    "avg_slary=df_filtr_1.groupby('job_title')['salary_in_usd'].mean().sort_values(ascending=False)\n",
    "plt.figure(figsize=(25,9))\n",
    "sns.barplot(x=job_title,y=avg_slary)\n",
    "plt.show()"
   ]
  },
  {
   "cell_type": "code",
   "execution_count": 67,
   "metadata": {},
   "outputs": [
    {
     "name": "stdout",
     "output_type": "stream",
     "text": [
      "old SIZE =  5463\n",
      "filter1 SIZE =  4068\n",
      "new SIZE =  4014\n"
     ]
    }
   ],
   "source": [
    "#filtr po level\n",
    "\n",
    "level_title=['Senior level','Intermediate level', 'Entry level']\n",
    "df_filtr_2 = df_filtr_1[df_filtr_1['experience_level'].isin(level_title)]\n",
    "levels=df_filtr_2['experience_level'].value_counts()\n",
    "levels\n",
    "\n",
    "\n",
    "\n",
    "print('old SIZE = ',df.size)\n",
    "print('filter1 SIZE = ',df_filtr_1.size)\n",
    "print('new SIZE = ',df_filtr_2.size)\n"
   ]
  },
  {
   "cell_type": "code",
   "execution_count": 65,
   "metadata": {},
   "outputs": [
    {
     "data": {
      "text/plain": [
       "experience_level\n",
       "Senior level          221\n",
       "Intermediate level    166\n",
       "Entry level            59\n",
       "Name: count, dtype: int64"
      ]
     },
     "execution_count": 65,
     "metadata": {},
     "output_type": "execute_result"
    }
   ],
   "source": [
    "## info about Experiance level\n",
    "\n",
    "experience_level=df_filtr_2['experience_level'].value_counts()\n",
    "experience_level"
   ]
  },
  {
   "cell_type": "code",
   "execution_count": 62,
   "metadata": {},
   "outputs": [
    {
     "data": {
      "image/png": "[encoded data removed]",
      "text/plain": [
       "<Figure size 2500x900 with 1 Axes>"
      ]
     },
     "metadata": {},
     "output_type": "display_data"
    }
   ],
   "source": [
    "#graf jobs po greidu \n",
    "\n",
    "level_title=['Senior level','Intermediate level', 'Entry level','Executive level']\n",
    "level_counts=np.array(experience_level)\n",
    "plt.figure(figsize=(25,9))\n",
    "sns.barplot(x=level_title,y=level_counts)\n",
    "plt.show()"
   ]
  },
  {
   "cell_type": "code",
   "execution_count": 66,
   "metadata": {},
   "outputs": [
    {
     "data": {
      "image/png": "[encoded data removed]",
      "text/plain": [
       "<Figure size 2500x900 with 1 Axes>"
      ]
     },
     "metadata": {},
     "output_type": "display_data"
    }
   ],
   "source": [
    "## Top 3 level \n",
    "\n",
    "avg_slary=df_filtr_2.groupby('experience_level')['salary_in_usd'].mean().sort_values(ascending=False)\n",
    "plt.figure(figsize=(25,9))\n",
    "sns.barplot(x=level_title,y=avg_slary)\n",
    "plt.show()"
   ]
  }
 ],
 "metadata": {
  "kernelspec": {
   "display_name": ".venv_IIS",
   "language": "python",
   "name": "python3"
  },
  "language_info": {
   "codemirror_mode": {
    "name": "ipython",
    "version": 3
   },
   "file_extension": ".py",
   "mimetype": "text/x-python",
   "name": "python",
   "nbconvert_exporter": "python",
   "pygments_lexer": "ipython3",
   "version": "3.10.12"
  }
 },
 "nbformat": 4,
 "nbformat_minor": 2
}
